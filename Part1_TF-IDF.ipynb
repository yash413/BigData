{
  "nbformat": 4,
  "nbformat_minor": 0,
  "metadata": {
    "colab": {
      "provenance": []
    },
    "kernelspec": {
      "name": "python3",
      "display_name": "Python 3"
    },
    "language_info": {
      "name": "python"
    }
  },
  "cells": [
    {
      "cell_type": "code",
      "source": [
        "!pip install pyspark"
      ],
      "metadata": {
        "colab": {
          "base_uri": "https://localhost:8080/"
        },
        "id": "etkctZJSILyW",
        "outputId": "802d423e-5543-4a85-8afb-451214ca4739"
      },
      "execution_count": null,
      "outputs": [
        {
          "output_type": "stream",
          "name": "stdout",
          "text": [
            "Looking in indexes: https://pypi.org/simple, https://us-python.pkg.dev/colab-wheels/public/simple/\n",
            "Collecting pyspark\n",
            "  Downloading pyspark-3.4.0.tar.gz (310.8 MB)\n",
            "\u001b[2K     \u001b[90m━━━━━━━━━━━━━━━━━━━━━━━━━━━━━━━━━━━━━━━\u001b[0m \u001b[32m310.8/310.8 MB\u001b[0m \u001b[31m4.4 MB/s\u001b[0m eta \u001b[36m0:00:00\u001b[0m\n",
            "\u001b[?25h  Preparing metadata (setup.py) ... \u001b[?25l\u001b[?25hdone\n",
            "Requirement already satisfied: py4j==0.10.9.7 in /usr/local/lib/python3.9/dist-packages (from pyspark) (0.10.9.7)\n",
            "Building wheels for collected packages: pyspark\n",
            "  Building wheel for pyspark (setup.py) ... \u001b[?25l\u001b[?25hdone\n",
            "  Created wheel for pyspark: filename=pyspark-3.4.0-py2.py3-none-any.whl size=311317145 sha256=cbfce93b5ae304252672157b33ed1913aeb9ccee90a8c2749e1625232641db4c\n",
            "  Stored in directory: /root/.cache/pip/wheels/9f/34/a4/159aa12d0a510d5ff7c8f0220abbea42e5d81ecf588c4fd884\n",
            "Successfully built pyspark\n",
            "Installing collected packages: pyspark\n",
            "Successfully installed pyspark-3.4.0\n"
          ]
        }
      ]
    },
    {
      "cell_type": "code",
      "source": [
        "from pyspark.sql import SparkSession\n",
        "from pyspark.sql.functions import log, col, sum\n",
        "import string\n",
        "import os\n",
        "import math"
      ],
      "metadata": {
        "id": "uaOuEIezIP4K"
      },
      "execution_count": null,
      "outputs": []
    },
    {
      "cell_type": "code",
      "source": [
        "# Create a SparkSession\n",
        "spark = SparkSession.builder.appName(\"TF-IDF\").getOrCreate()"
      ],
      "metadata": {
        "id": "ifqaLMWYI03E"
      },
      "execution_count": null,
      "outputs": []
    },
    {
      "cell_type": "code",
      "source": [
        "# Load the text files\n",
        "files_rdd = spark.sparkContext.wholeTextFiles(\"/content/Songdata\")"
      ],
      "metadata": {
        "id": "efwGpg13I5fy"
      },
      "execution_count": null,
      "outputs": []
    },
    {
      "cell_type": "code",
      "source": [
        "# Tokenize the documents\n",
        "def tokenize_doc(x):\n",
        "    return os.path.basename(x[0]), x[1].lower().translate(str.maketrans(\"\", \"\", string.punctuation)).split()\n",
        "tokens_rdd = files_rdd.map(tokenize_doc)"
      ],
      "metadata": {
        "id": "OZRC1NY3JYR6"
      },
      "execution_count": null,
      "outputs": []
    },
    {
      "cell_type": "code",
      "source": [
        "# Compute the term frequency for each token in each document\n",
        "tf_rdd = tokens_rdd.flatMap(lambda x: [((x[0], token), 1) for token in x[1]]) \\\n",
        "                   .reduceByKey(lambda x, y: x + y)\n",
        "tf_df = tf_rdd.map(lambda x: (x[0][0], x[0][1], x[1])).toDF([\"Song ID\", \"Token\", \"Term Frequency\"])"
      ],
      "metadata": {
        "id": "pOo-chuCJ3B8"
      },
      "execution_count": null,
      "outputs": []
    },
    {
      "cell_type": "code",
      "source": [
        "tf_df.show()"
      ],
      "metadata": {
        "colab": {
          "base_uri": "https://localhost:8080/"
        },
        "id": "z5E8VDkHcSl_",
        "outputId": "6e64ef20-98a0-449c-a6d3-be618a63aacb"
      },
      "execution_count": null,
      "outputs": [
        {
          "output_type": "stream",
          "name": "stdout",
          "text": [
            "+--------------------+--------+--------------+\n",
            "|             Song ID|   Token|Term Frequency|\n",
            "+--------------------+--------+--------------+\n",
            "|Girl from the Nor...|      if|             8|\n",
            "|Girl from the Nor...|     the|            15|\n",
            "|Girl from the Nor...|   north|             3|\n",
            "|Girl from the Nor...|    fair|             2|\n",
            "|Girl from the Nor...|   winds|             3|\n",
            "|Girl from the Nor...|     hit|             2|\n",
            "|Girl from the Nor...|      on|             2|\n",
            "|Girl from the Nor...|remember|             3|\n",
            "|Girl from the Nor...|      me|             4|\n",
            "|Girl from the Nor...|      to|             3|\n",
            "|Girl from the Nor...|     one|             2|\n",
            "|Girl from the Nor...|     who|             2|\n",
            "|Girl from the Nor...|   lives|             2|\n",
            "|Girl from the Nor...|     for|             3|\n",
            "|Girl from the Nor...|     she|             4|\n",
            "|Girl from the Nor...|       a|             3|\n",
            "|Girl from the Nor...|    mine|             2|\n",
            "|Girl from the Nor...|     you|             1|\n",
            "|Girl from the Nor...|  rivers|             1|\n",
            "|Girl from the Nor...|     and|             4|\n",
            "+--------------------+--------+--------------+\n",
            "only showing top 20 rows\n",
            "\n"
          ]
        }
      ]
    },
    {
      "cell_type": "code",
      "source": [
        "# Compute the inverse document frequency for each token\n",
        "total_docs = files_rdd.count()\n",
        "df_rdd = tokens_rdd.flatMap(lambda x: [(token, x[0]) for token in x[1]]) \\\n",
        "                   .distinct() \\\n",
        "                   .map(lambda x: (x[0], 1)) \\\n",
        "                   .reduceByKey(lambda x, y: x + y)\n",
        "idf_rdd = df_rdd.map(lambda x: (x[0], math.log(total_docs / x[1],10)))\n",
        "idf_df = idf_rdd.toDF(['Token', 'Inverse Document Frequency'])\n",
        "\n"
      ],
      "metadata": {
        "id": "4c0Lqu20J8O-"
      },
      "execution_count": null,
      "outputs": []
    },
    {
      "cell_type": "code",
      "source": [
        "idf_df.printSchema()"
      ],
      "metadata": {
        "colab": {
          "base_uri": "https://localhost:8080/"
        },
        "id": "XSWwRZJGOv5l",
        "outputId": "60a1f8ef-3f44-4a8e-8482-1b2c41c0ea7f"
      },
      "execution_count": null,
      "outputs": [
        {
          "output_type": "stream",
          "name": "stdout",
          "text": [
            "root\n",
            " |-- Token: string (nullable = true)\n",
            " |-- Inverse Document Frequency: double (nullable = true)\n",
            "\n"
          ]
        }
      ]
    },
    {
      "cell_type": "code",
      "source": [
        "idf_df.show()"
      ],
      "metadata": {
        "colab": {
          "base_uri": "https://localhost:8080/"
        },
        "id": "jGfW2BQQcJDE",
        "outputId": "a900cbbe-c809-4bf0-e3ce-dcaab8febc69"
      },
      "execution_count": null,
      "outputs": [
        {
          "output_type": "stream",
          "name": "stdout",
          "text": [
            "+----------+--------------------------+\n",
            "|     Token|Inverse Document Frequency|\n",
            "+----------+--------------------------+\n",
            "|      it’s|        0.3979400086720376|\n",
            "|         i|                       0.0|\n",
            "|       was|       0.33099321904142437|\n",
            "|     after|        0.5740312677277188|\n",
            "|     these|        0.5740312677277188|\n",
            "|     years|        0.5740312677277188|\n",
            "|      like|        0.3979400086720376|\n",
            "|      meet|        0.8750612633916999|\n",
            "|        go|       0.17609125905568124|\n",
            "|everything|        0.5740312677277188|\n",
            "|       say|       0.47712125471966244|\n",
            "|    time’s|        0.8750612633916999|\n",
            "|      heal|        0.5740312677277188|\n",
            "|        ya|        0.6989700043360187|\n",
            "|       but|       0.13469857389745615|\n",
            "|      hear|        0.6989700043360187|\n",
            "|       i’m|        0.2730012720637376|\n",
            "|        in|       0.06214790674884443|\n",
            "|  dreaming|        1.1760912590556811|\n",
            "|        we|        0.3979400086720376|\n",
            "+----------+--------------------------+\n",
            "only showing top 20 rows\n",
            "\n"
          ]
        }
      ]
    },
    {
      "cell_type": "code",
      "source": [
        "# Compute the TF-IDF score for each token in each document\n",
        "idf_dict = dict(idf_rdd.collect())\n",
        "tfidf_rdd = tf_rdd.map(lambda x: (x[0][0], x[0][1], x[1] * idf_dict[x[0][1]]))\n",
        "tfidf_df = tfidf_rdd.toDF([\"Song ID\", \"Token\", \"TF-IDF\"])"
      ],
      "metadata": {
        "id": "bcwSAzrXKP5K"
      },
      "execution_count": null,
      "outputs": []
    },
    {
      "cell_type": "code",
      "source": [
        "tfidf_df.printSchema()"
      ],
      "metadata": {
        "colab": {
          "base_uri": "https://localhost:8080/"
        },
        "id": "EJ8CeRfgO4Ay",
        "outputId": "c04541e8-33bf-42f2-b4c2-f1ec60ed839e"
      },
      "execution_count": null,
      "outputs": [
        {
          "output_type": "stream",
          "name": "stdout",
          "text": [
            "root\n",
            " |-- Song ID: string (nullable = true)\n",
            " |-- Token: string (nullable = true)\n",
            " |-- TF-IDF: double (nullable = true)\n",
            "\n"
          ]
        }
      ]
    },
    {
      "cell_type": "code",
      "source": [
        "# Join the TF-IDF and token dataframes\n",
        "join_df = tfidf_df.join(tf_df, [\"Song ID\", \"Token\"])"
      ],
      "metadata": {
        "id": "_qlEe3obKQ32"
      },
      "execution_count": null,
      "outputs": []
    },
    {
      "cell_type": "code",
      "source": [
        "#Question 1 A"
      ],
      "metadata": {
        "id": "QDH18b4FQMqK"
      },
      "execution_count": null,
      "outputs": []
    },
    {
      "cell_type": "code",
      "source": [
        "\n",
        "join_idf_df = join_df.join(idf_df, \"Token\")\n",
        "\n",
        "# Select only the required columns\n",
        "table_df = join_idf_df.select(\"Song ID\", \"Token\", \"Term Frequency\", \"Inverse Document Frequency\", \"TF-IDF\")\n",
        "\n",
        "# Show the results\n",
        "table_df.show()"
      ],
      "metadata": {
        "colab": {
          "base_uri": "https://localhost:8080/"
        },
        "id": "5z5Y_XQiQBXW",
        "outputId": "3109188c-4482-42d0-87dd-9e30cdeda573"
      },
      "execution_count": null,
      "outputs": [
        {
          "output_type": "stream",
          "name": "stdout",
          "text": [
            "+--------------------+---------+--------------+--------------------------+-------------------+\n",
            "|             Song ID|    Token|Term Frequency|Inverse Document Frequency|             TF-IDF|\n",
            "+--------------------+---------+--------------+--------------------------+-------------------+\n",
            "|       When I'm Gone|  friends|             1|        1.1760912590556811| 1.1760912590556811|\n",
            "|       When I'm Gone|  through|             1|        0.5740312677277188| 0.5740312677277188|\n",
            "|               Hello|   laurie|             1|        1.1760912590556811| 1.1760912590556811|\n",
            "|                Numb|     feel|             5|       0.22184874961635637| 1.1092437480817818|\n",
            "|         Mockingbird|     till|             1|        0.8750612633916999| 0.8750612633916999|\n",
            "|               Faded|       go|             1|       0.17609125905568124|0.17609125905568124|\n",
            "|               Hello|       us|             2|        0.5740312677277188| 1.1480625354554377|\n",
            "|         Mockingbird|      was|             8|       0.33099321904142437|  2.647945752331395|\n",
            "|         Mockingbird|something|             1|        0.5740312677277188| 0.5740312677277188|\n",
            "|  Somewhere I Belong|   artist|             1|                       0.0|                0.0|\n",
            "|Girl from the Nor...|      the|            15|                       0.0|                0.0|\n",
            "|Girl from the Nor...|      ive|             1|        0.6989700043360187| 0.6989700043360187|\n",
            "|       When I'm Gone|       or|             1|        0.6989700043360187| 0.6989700043360187|\n",
            "|               Hello|    where|             1|       0.47712125471966244|0.47712125471966244|\n",
            "|          Kryptonite| original|             2|        0.6989700043360187| 1.3979400086720375|\n",
            "|  Somewhere I Belong|     lost|             1|        0.6989700043360187| 0.6989700043360187|\n",
            "|  Somewhere I Belong|  thought|             3|        0.6989700043360187| 2.0969100130080562|\n",
            "|    Murder Most Foul|       it|            26|        0.0969100130080564| 2.5196603382094667|\n",
            "|    Murder Most Foul| scarlett|             1|        1.1760912590556811| 1.1760912590556811|\n",
            "|    Murder Most Foul|    wheel|             1|        1.1760912590556811| 1.1760912590556811|\n",
            "+--------------------+---------+--------------+--------------------------+-------------------+\n",
            "only showing top 20 rows\n",
            "\n"
          ]
        }
      ]
    },
    {
      "cell_type": "code",
      "source": [
        "#Question 1 B"
      ],
      "metadata": {
        "id": "GzicxJ3iQVSW"
      },
      "execution_count": null,
      "outputs": []
    },
    {
      "cell_type": "code",
      "source": [
        "from pyspark.sql.functions import log, col, collect_list, sum"
      ],
      "metadata": {
        "id": "c9F_MfXOKsXq"
      },
      "execution_count": null,
      "outputs": []
    },
    {
      "cell_type": "code",
      "source": [
        "# Find the word with the highest TF-IDF score for each song\n",
        "join_df.createOrReplaceTempView(\"tfidf_table\")\n",
        "result_df = spark.sql(\"SELECT `Song ID`, `Token`, `TF-IDF` FROM (SELECT *, ROW_NUMBER() OVER (PARTITION BY `Song ID` ORDER BY `TF-IDF` DESC) AS rank FROM tfidf_table) WHERE rank = 1\")\n",
        "result_df.show()"
      ],
      "metadata": {
        "colab": {
          "base_uri": "https://localhost:8080/"
        },
        "id": "hd_XlNG9L3fJ",
        "outputId": "dde5afdd-f1b4-4d9c-a7cc-6d282a9608be"
      },
      "execution_count": null,
      "outputs": [
        {
          "output_type": "stream",
          "name": "stdout",
          "text": [
            "+--------------------+----------+------------------+\n",
            "|             Song ID|     Token|            TF-IDF|\n",
            "+--------------------+----------+------------------+\n",
            "|               Faded|     faded|15.289186367723854|\n",
            "|Girl from the Nor...|     north| 3.528273777167043|\n",
            "|               Hello|     hello|11.760912590556812|\n",
            "|          Impossible|impossible| 21.16964266300226|\n",
            "|          Kryptonite|kryptonite| 5.880456295278406|\n",
            "|         Mockingbird|     daddy|11.760912590556812|\n",
            "|    Murder Most Foul|      play| 71.74156680239655|\n",
            "|                Numb|    caught| 9.408730072445449|\n",
            "|          Photograph|      wait| 5.250367580350199|\n",
            "|          Run To You|       run|24.697916440169305|\n",
            "|  Somewhere I Belong|      want|12.628687890009815|\n",
            "|      Still into You|      into|15.377340095392412|\n",
            "|    Tears Don't Fall|conscience| 10.58482133150113|\n",
            "|   The Diary Of Jane|      jane| 7.056547554334086|\n",
            "|       When I'm Gone|       i’m| 10.10104706635829|\n",
            "+--------------------+----------+------------------+\n",
            "\n"
          ]
        }
      ]
    },
    {
      "cell_type": "code",
      "source": [
        "#Question 1 C"
      ],
      "metadata": {
        "id": "KiR2k04XQYRn"
      },
      "execution_count": null,
      "outputs": []
    },
    {
      "cell_type": "code",
      "source": [
        "# Find the top 3 songs with the highest TF-IDF scores for the relevant keywords\n",
        "keywords = [\"tear\", \"feel\", \"hate\"]\n",
        "relevant_df = join_df.filter(join_df.Token.isin(keywords))\n",
        "relevant_df = relevant_df.groupBy(\"Song ID\").agg(sum(\"TF-IDF\").alias(\"Rank Score\"))\n",
        "relevant_df = relevant_df.orderBy(col(\"Rank Score\").desc()).limit(3)\n",
        "relevant_df.show()"
      ],
      "metadata": {
        "colab": {
          "base_uri": "https://localhost:8080/"
        },
        "id": "UEJTV1XBLMKL",
        "outputId": "11ef1eeb-70b1-4200-edc1-647a673493cd"
      },
      "execution_count": null,
      "outputs": [
        {
          "output_type": "stream",
          "name": "stdout",
          "text": [
            "+------------------+------------------+\n",
            "|           Song ID|        Rank Score|\n",
            "+------------------+------------------+\n",
            "|             Hello| 3.528273777167043|\n",
            "|Somewhere I Belong|2.2184874961635637|\n",
            "|              Numb|1.1092437480817818|\n",
            "+------------------+------------------+\n",
            "\n"
          ]
        }
      ]
    },
    {
      "cell_type": "code",
      "source": [],
      "metadata": {
        "id": "-wzTkaftLo-w"
      },
      "execution_count": null,
      "outputs": []
    }
  ]
}